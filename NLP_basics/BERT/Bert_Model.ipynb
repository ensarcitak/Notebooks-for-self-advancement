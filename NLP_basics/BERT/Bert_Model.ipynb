{
  "cells": [
    {
      "cell_type": "markdown",
      "id": "882d9f28",
      "metadata": {
        "id": "882d9f28"
      },
      "source": [
        "#  Bert Modeli"
      ]
    },
    {
      "cell_type": "markdown",
      "id": "2ed0b01a",
      "metadata": {
        "id": "2ed0b01a"
      },
      "source": [
        "## Genel Özet\n",
        "- Bert modeli ile ilgili kısa bilgiler verilmiş ve Hepsiburada veri seti Bert Modeli ile predict edilmiştir."
      ]
    },
    {
      "cell_type": "markdown",
      "id": "bce3f6c5",
      "metadata": {
        "id": "bce3f6c5"
      },
      "source": [
        "## İçindekiler <a class=\"anchor\" id=\"menu\"></a>\n",
        "* [1) Bert ( Bidirectional Encoder Representations from Transformers )](#bertnedir)\n",
        "\n",
        "* [2) Gerekli Kütüphanelerin ve Veri Setinin Yüklenmesi](#veriyukle)\n",
        "\n",
        "* [3) Bert Modeli ile Tahmin Yapılması](#sadecebert)\n",
        "    "
      ]
    },
    {
      "cell_type": "markdown",
      "id": "11ba1e07",
      "metadata": {
        "id": "11ba1e07"
      },
      "source": [
        "# 1) Bert ( Bidirectional Encoder Representations from Transformers ) <a class=\"anchor\" id=\"bertnedir\"></a>"
      ]
    },
    {
      "cell_type": "markdown",
      "id": "fe346c5b",
      "metadata": {
        "id": "fe346c5b"
      },
      "source": [
        "![gbert.png](attachment:gbert.png)"
      ]
    },
    {
      "cell_type": "markdown",
      "id": "0849d5f3",
      "metadata": {
        "id": "0849d5f3"
      },
      "source": [
        "### Bert Algoritması Nedir?"
      ]
    },
    {
      "cell_type": "markdown",
      "id": "741b4921",
      "metadata": {
        "id": "741b4921"
      },
      "source": [
        "BERT Algoritması **Google tarafından** arama motoruna yazılan sorguları daha iyi anlamak ve kullanıcılara daha doğru sonuçlar sunmak adına geliştirilmiştir. BERT algoritması, yapay zeka ve makine öğrenimi teknolojilerini bir arada kullanan bir **doğal dil işleme** tekniğidir.  "
      ]
    },
    {
      "cell_type": "markdown",
      "id": "de31bf09",
      "metadata": {
        "id": "de31bf09"
      },
      "source": [
        "BERT, yapılan sorgulardaki kelimeleri **tek tek değerlendirmek yerine**, önündeki ve arkasındaki kelimeler ya da benzer ve eş anlamlı kelimeler ile birlikte değerlendirme yapmaktadır. Böylece özellikle long tail ya da **karmaşık** kullanıcı sorgularını çok daha iyi anlamayı amaçlamaktadır. Bunun yanı sıra Google BERT algoritma güncellemesi ile sorgularda kullanılan bağlaç ve edatların da sorguya ne anlam kattığını çok daha iyi anlayacağını ifade etmektedir."
      ]
    },
    {
      "cell_type": "markdown",
      "id": "0cbf5bbd",
      "metadata": {
        "id": "0cbf5bbd"
      },
      "source": [
        "### Bert Modeli Oluşturulurken Kullanılan Veri Seti ve Teknikler Nelerdir?"
      ]
    },
    {
      "cell_type": "markdown",
      "id": "b3be0341",
      "metadata": {
        "id": "b3be0341"
      },
      "source": [
        "#### Kullanılan Veri Seti"
      ]
    },
    {
      "cell_type": "markdown",
      "id": "39fea774",
      "metadata": {
        "id": "39fea774"
      },
      "source": [
        "- **800M kelime** hazinesine sahip olan **BookCorpus** ve **2.5B** kelime hazinesine sahip olan **Wikipedia** veriseti kullanılarak **bert_large** ve **bert_base adı** verilen 2 temel model geliştirilmiştir.\n",
        "- Bert_large **16 adet TPU**, bert_base ise **4 adet TPU** ile **4 gün** boyunca train edilmiştir."
      ]
    },
    {
      "cell_type": "markdown",
      "id": "c2794ed0",
      "metadata": {
        "id": "c2794ed0"
      },
      "source": [
        "#### Kullanılan Teknikler"
      ]
    },
    {
      "cell_type": "markdown",
      "id": "ffe310c5",
      "metadata": {
        "id": "ffe310c5"
      },
      "source": [
        "BERT, Masked Language Modeling (MLM) ve Next Sentence Prediction (NSP) adı verilen iki teknikle eğitilmiştir. Bir cümle modele girdiğinde, cümledeki kelimelerin %15'inde MLM tekniği kullanılmıştır. Bu tekniğin kullanıldığı kelimelerin %80'i [MASK] token’ı ile, %10'u rastgele başka bir kelimeyle değiştirilmiş, geri kalan %10 da değiştirilmeden bırakılmıştır."
      ]
    },
    {
      "cell_type": "markdown",
      "id": "9e1fc389",
      "metadata": {
        "id": "9e1fc389"
      },
      "source": [
        "Çok fazla kelimenin maskelenmesi eğitimi çok zorlaştırdığından, çok az kelimenin maskelenmesi de cümledeki içeriğin çok iyi kavranamaması durumuna sebep olduğundan Google MLM tekniği için cümledeki kelimelerin %15'ini kullanmayı tercih etmiştir."
      ]
    },
    {
      "cell_type": "markdown",
      "id": "bed9d2e9",
      "metadata": {
        "id": "bed9d2e9"
      },
      "source": [
        "**Masked Language Modeling** tekniğinde, maskelenen kelime, açık şekilde beslenen kelimelerle tahmin edilmeye çalışılır. ( Bu teknikte sadece maskelenen kelimeler tahmin edilmeye çalışılır, açık olan veya üzerinde işlem uygulanmayan kelimelerle ilgili herhangi bir tahmin gerçekleştirilmez. Bu sebeple Loss değeri sadece işlem uygulanan kelimeler üzerinden değerlendirilir)."
      ]
    },
    {
      "cell_type": "markdown",
      "id": "6b660f74",
      "metadata": {
        "id": "6b660f74"
      },
      "source": [
        "![mlm.png](attachment:mlm.png)"
      ]
    },
    {
      "cell_type": "markdown",
      "id": "673267eb",
      "metadata": {
        "id": "673267eb"
      },
      "source": [
        "**Next Sentence Prediction** tekniğinde ise ikili olarak gelen cümle çiftlerinde, ikinci cümlenin ilk cümlenin devamı olup olmadığı tahmin edilir. Bu teknikten önce ikinci cümlelerin %50'si rastgele değiştirilir, %50'si ise aynı şekilde bırakılır."
      ]
    },
    {
      "cell_type": "markdown",
      "id": "59a5ffa8",
      "metadata": {
        "id": "59a5ffa8"
      },
      "source": [
        "![nextsentencepred.png](attachment:nextsentencepred.png)"
      ]
    },
    {
      "cell_type": "markdown",
      "id": "ad18fa6f",
      "metadata": {
        "id": "ad18fa6f"
      },
      "source": [
        "Training esnasındaki **optimizasyon**, bu iki teknik kullanılırken ortaya çıkan kaybın minimuma indirilmesi ile gerçekleştirilir."
      ]
    },
    {
      "cell_type": "markdown",
      "id": "4566e441",
      "metadata": {
        "id": "4566e441"
      },
      "source": [
        "### Fine Tuning"
      ]
    },
    {
      "cell_type": "markdown",
      "id": "d490bab3",
      "metadata": {
        "id": "d490bab3"
      },
      "source": [
        "BERT kendi başına **GLM** ( genelleştirilmiş doğrusal model ) adı verilen, **birden fazla problemde kullanılabilecek** şekilde tasarlanmış bir modeldir."
      ]
    },
    {
      "cell_type": "markdown",
      "id": "6e2f251f",
      "metadata": {
        "id": "6e2f251f"
      },
      "source": [
        " Google tarafından, hazır-eğitilmiş modeller **açık olarak paylaşılmıştır**. Hazır-eğitilmiş modeller **fine-tuning** adı verilen teknikle **yeni problemlerin çözümünde** kullanılabilmektedir."
      ]
    },
    {
      "cell_type": "markdown",
      "id": "cea08f9c",
      "metadata": {
        "id": "cea08f9c"
      },
      "source": [
        "## 2) Gerekli Kütüphanelerin ve Veri Setinin Yüklenmesi <a class=\"anchor\" id=\"veriyukle\"></a>"
      ]
    },
    {
      "cell_type": "code",
      "execution_count": 29,
      "id": "cbe33fda",
      "metadata": {
        "id": "cbe33fda"
      },
      "outputs": [],
      "source": [
        "import pandas as pd\n",
        "import numpy as np\n",
        "import matplotlib.pyplot as plt\n",
        "import seaborn as sns\n",
        "import time\n",
        "\n",
        "from collections import Counter\n",
        "from sklearn.metrics import accuracy_score\n",
        "from sklearn.metrics import confusion_matrix\n",
        "from sklearn.metrics import f1_score"
      ]
    },
    {
      "cell_type": "code",
      "execution_count": 30,
      "id": "69fa6adb",
      "metadata": {
        "id": "69fa6adb"
      },
      "outputs": [],
      "source": [
        "comments = pd.read_csv(\"hepsiburada.csv\", nrows = 10000)"
      ]
    },
    {
      "cell_type": "markdown",
      "id": "6b9d9a78",
      "metadata": {
        "id": "6b9d9a78"
      },
      "source": [
        "Veri seti Türkiye'deki online alışveriş sitelerinden alınan yorumlardan oluşmaktadır.\n",
        "\n",
        "Veri seti 10000 satır ve 2 sütundan oluşmaktadır.\n",
        "\n",
        "- **Review**: Müşteri tarafından ürüne yapılan yorum.\n",
        "- **Rating**: Yorumun türü. 1 olumlu yorumları, 0 ise olumsuz yorumları temsil etmektedir.\n"
      ]
    },
    {
      "cell_type": "code",
      "execution_count": 31,
      "id": "a72b7358",
      "metadata": {
        "colab": {
          "base_uri": "https://localhost:8080/",
          "height": 423
        },
        "id": "a72b7358",
        "outputId": "b4face8e-5747-41cd-bde7-dc411732ad28"
      },
      "outputs": [
        {
          "output_type": "execute_result",
          "data": {
            "text/plain": [
              "      Rating                                             Review\n",
              "0          1                            3 yıldır tık demedi. :)\n",
              "1          1                      3 yıldır kullanıyorum müthiş \n",
              "2          1  Ürün bugün elime geçti çok fazla inceleme fırs...\n",
              "3          1  Almaya karar verdim. Hemencecik geldi. Keyifle...\n",
              "4          1  Günlük kullanımınızı çok çok iyi karsılıyor kı...\n",
              "...      ...                                                ...\n",
              "9995       1  Hızlı teslimat, uygun fiyat. Özellekleri yeter...\n",
              "9996       1  Herhangi bir sıkıntı çıkmadı, gece derin uyku ...\n",
              "9997       1                         Sorunsuz ürün teşekkürler \n",
              "9998       1  Sigarayi biraktim biraz kilo aldim.bu bileklik...\n",
              "9999       1      Kullanışlı çok işime yarıyor. Tavsiye olunur.\n",
              "\n",
              "[10000 rows x 2 columns]"
            ],
            "text/html": [
              "\n",
              "\n",
              "  <div id=\"df-ed5e365f-018a-4b80-916c-9f4f5cc30c82\">\n",
              "    <div class=\"colab-df-container\">\n",
              "      <div>\n",
              "<style scoped>\n",
              "    .dataframe tbody tr th:only-of-type {\n",
              "        vertical-align: middle;\n",
              "    }\n",
              "\n",
              "    .dataframe tbody tr th {\n",
              "        vertical-align: top;\n",
              "    }\n",
              "\n",
              "    .dataframe thead th {\n",
              "        text-align: right;\n",
              "    }\n",
              "</style>\n",
              "<table border=\"1\" class=\"dataframe\">\n",
              "  <thead>\n",
              "    <tr style=\"text-align: right;\">\n",
              "      <th></th>\n",
              "      <th>Rating</th>\n",
              "      <th>Review</th>\n",
              "    </tr>\n",
              "  </thead>\n",
              "  <tbody>\n",
              "    <tr>\n",
              "      <th>0</th>\n",
              "      <td>1</td>\n",
              "      <td>3 yıldır tık demedi. :)</td>\n",
              "    </tr>\n",
              "    <tr>\n",
              "      <th>1</th>\n",
              "      <td>1</td>\n",
              "      <td>3 yıldır kullanıyorum müthiş</td>\n",
              "    </tr>\n",
              "    <tr>\n",
              "      <th>2</th>\n",
              "      <td>1</td>\n",
              "      <td>Ürün bugün elime geçti çok fazla inceleme fırs...</td>\n",
              "    </tr>\n",
              "    <tr>\n",
              "      <th>3</th>\n",
              "      <td>1</td>\n",
              "      <td>Almaya karar verdim. Hemencecik geldi. Keyifle...</td>\n",
              "    </tr>\n",
              "    <tr>\n",
              "      <th>4</th>\n",
              "      <td>1</td>\n",
              "      <td>Günlük kullanımınızı çok çok iyi karsılıyor kı...</td>\n",
              "    </tr>\n",
              "    <tr>\n",
              "      <th>...</th>\n",
              "      <td>...</td>\n",
              "      <td>...</td>\n",
              "    </tr>\n",
              "    <tr>\n",
              "      <th>9995</th>\n",
              "      <td>1</td>\n",
              "      <td>Hızlı teslimat, uygun fiyat. Özellekleri yeter...</td>\n",
              "    </tr>\n",
              "    <tr>\n",
              "      <th>9996</th>\n",
              "      <td>1</td>\n",
              "      <td>Herhangi bir sıkıntı çıkmadı, gece derin uyku ...</td>\n",
              "    </tr>\n",
              "    <tr>\n",
              "      <th>9997</th>\n",
              "      <td>1</td>\n",
              "      <td>Sorunsuz ürün teşekkürler</td>\n",
              "    </tr>\n",
              "    <tr>\n",
              "      <th>9998</th>\n",
              "      <td>1</td>\n",
              "      <td>Sigarayi biraktim biraz kilo aldim.bu bileklik...</td>\n",
              "    </tr>\n",
              "    <tr>\n",
              "      <th>9999</th>\n",
              "      <td>1</td>\n",
              "      <td>Kullanışlı çok işime yarıyor. Tavsiye olunur.</td>\n",
              "    </tr>\n",
              "  </tbody>\n",
              "</table>\n",
              "<p>10000 rows × 2 columns</p>\n",
              "</div>\n",
              "      <button class=\"colab-df-convert\" onclick=\"convertToInteractive('df-ed5e365f-018a-4b80-916c-9f4f5cc30c82')\"\n",
              "              title=\"Convert this dataframe to an interactive table.\"\n",
              "              style=\"display:none;\">\n",
              "\n",
              "  <svg xmlns=\"http://www.w3.org/2000/svg\" height=\"24px\"viewBox=\"0 0 24 24\"\n",
              "       width=\"24px\">\n",
              "    <path d=\"M0 0h24v24H0V0z\" fill=\"none\"/>\n",
              "    <path d=\"M18.56 5.44l.94 2.06.94-2.06 2.06-.94-2.06-.94-.94-2.06-.94 2.06-2.06.94zm-11 1L8.5 8.5l.94-2.06 2.06-.94-2.06-.94L8.5 2.5l-.94 2.06-2.06.94zm10 10l.94 2.06.94-2.06 2.06-.94-2.06-.94-.94-2.06-.94 2.06-2.06.94z\"/><path d=\"M17.41 7.96l-1.37-1.37c-.4-.4-.92-.59-1.43-.59-.52 0-1.04.2-1.43.59L10.3 9.45l-7.72 7.72c-.78.78-.78 2.05 0 2.83L4 21.41c.39.39.9.59 1.41.59.51 0 1.02-.2 1.41-.59l7.78-7.78 2.81-2.81c.8-.78.8-2.07 0-2.86zM5.41 20L4 18.59l7.72-7.72 1.47 1.35L5.41 20z\"/>\n",
              "  </svg>\n",
              "      </button>\n",
              "\n",
              "\n",
              "\n",
              "    <div id=\"df-9b5eab83-c3dd-4362-8a23-892eda672368\">\n",
              "      <button class=\"colab-df-quickchart\" onclick=\"quickchart('df-9b5eab83-c3dd-4362-8a23-892eda672368')\"\n",
              "              title=\"Suggest charts.\"\n",
              "              style=\"display:none;\">\n",
              "\n",
              "<svg xmlns=\"http://www.w3.org/2000/svg\" height=\"24px\"viewBox=\"0 0 24 24\"\n",
              "     width=\"24px\">\n",
              "    <g>\n",
              "        <path d=\"M19 3H5c-1.1 0-2 .9-2 2v14c0 1.1.9 2 2 2h14c1.1 0 2-.9 2-2V5c0-1.1-.9-2-2-2zM9 17H7v-7h2v7zm4 0h-2V7h2v10zm4 0h-2v-4h2v4z\"/>\n",
              "    </g>\n",
              "</svg>\n",
              "      </button>\n",
              "    </div>\n",
              "\n",
              "<style>\n",
              "  .colab-df-quickchart {\n",
              "    background-color: #E8F0FE;\n",
              "    border: none;\n",
              "    border-radius: 50%;\n",
              "    cursor: pointer;\n",
              "    display: none;\n",
              "    fill: #1967D2;\n",
              "    height: 32px;\n",
              "    padding: 0 0 0 0;\n",
              "    width: 32px;\n",
              "  }\n",
              "\n",
              "  .colab-df-quickchart:hover {\n",
              "    background-color: #E2EBFA;\n",
              "    box-shadow: 0px 1px 2px rgba(60, 64, 67, 0.3), 0px 1px 3px 1px rgba(60, 64, 67, 0.15);\n",
              "    fill: #174EA6;\n",
              "  }\n",
              "\n",
              "  [theme=dark] .colab-df-quickchart {\n",
              "    background-color: #3B4455;\n",
              "    fill: #D2E3FC;\n",
              "  }\n",
              "\n",
              "  [theme=dark] .colab-df-quickchart:hover {\n",
              "    background-color: #434B5C;\n",
              "    box-shadow: 0px 1px 3px 1px rgba(0, 0, 0, 0.15);\n",
              "    filter: drop-shadow(0px 1px 2px rgba(0, 0, 0, 0.3));\n",
              "    fill: #FFFFFF;\n",
              "  }\n",
              "</style>\n",
              "\n",
              "    <script>\n",
              "      async function quickchart(key) {\n",
              "        const containerElement = document.querySelector('#' + key);\n",
              "        const charts = await google.colab.kernel.invokeFunction(\n",
              "            'suggestCharts', [key], {});\n",
              "      }\n",
              "    </script>\n",
              "\n",
              "      <script>\n",
              "\n",
              "function displayQuickchartButton(domScope) {\n",
              "  let quickchartButtonEl =\n",
              "    domScope.querySelector('#df-9b5eab83-c3dd-4362-8a23-892eda672368 button.colab-df-quickchart');\n",
              "  quickchartButtonEl.style.display =\n",
              "    google.colab.kernel.accessAllowed ? 'block' : 'none';\n",
              "}\n",
              "\n",
              "        displayQuickchartButton(document);\n",
              "      </script>\n",
              "      <style>\n",
              "    .colab-df-container {\n",
              "      display:flex;\n",
              "      flex-wrap:wrap;\n",
              "      gap: 12px;\n",
              "    }\n",
              "\n",
              "    .colab-df-convert {\n",
              "      background-color: #E8F0FE;\n",
              "      border: none;\n",
              "      border-radius: 50%;\n",
              "      cursor: pointer;\n",
              "      display: none;\n",
              "      fill: #1967D2;\n",
              "      height: 32px;\n",
              "      padding: 0 0 0 0;\n",
              "      width: 32px;\n",
              "    }\n",
              "\n",
              "    .colab-df-convert:hover {\n",
              "      background-color: #E2EBFA;\n",
              "      box-shadow: 0px 1px 2px rgba(60, 64, 67, 0.3), 0px 1px 3px 1px rgba(60, 64, 67, 0.15);\n",
              "      fill: #174EA6;\n",
              "    }\n",
              "\n",
              "    [theme=dark] .colab-df-convert {\n",
              "      background-color: #3B4455;\n",
              "      fill: #D2E3FC;\n",
              "    }\n",
              "\n",
              "    [theme=dark] .colab-df-convert:hover {\n",
              "      background-color: #434B5C;\n",
              "      box-shadow: 0px 1px 3px 1px rgba(0, 0, 0, 0.15);\n",
              "      filter: drop-shadow(0px 1px 2px rgba(0, 0, 0, 0.3));\n",
              "      fill: #FFFFFF;\n",
              "    }\n",
              "  </style>\n",
              "\n",
              "      <script>\n",
              "        const buttonEl =\n",
              "          document.querySelector('#df-ed5e365f-018a-4b80-916c-9f4f5cc30c82 button.colab-df-convert');\n",
              "        buttonEl.style.display =\n",
              "          google.colab.kernel.accessAllowed ? 'block' : 'none';\n",
              "\n",
              "        async function convertToInteractive(key) {\n",
              "          const element = document.querySelector('#df-ed5e365f-018a-4b80-916c-9f4f5cc30c82');\n",
              "          const dataTable =\n",
              "            await google.colab.kernel.invokeFunction('convertToInteractive',\n",
              "                                                     [key], {});\n",
              "          if (!dataTable) return;\n",
              "\n",
              "          const docLinkHtml = 'Like what you see? Visit the ' +\n",
              "            '<a target=\"_blank\" href=https://colab.research.google.com/notebooks/data_table.ipynb>data table notebook</a>'\n",
              "            + ' to learn more about interactive tables.';\n",
              "          element.innerHTML = '';\n",
              "          dataTable['output_type'] = 'display_data';\n",
              "          await google.colab.output.renderOutput(dataTable, element);\n",
              "          const docLink = document.createElement('div');\n",
              "          docLink.innerHTML = docLinkHtml;\n",
              "          element.appendChild(docLink);\n",
              "        }\n",
              "      </script>\n",
              "    </div>\n",
              "  </div>\n"
            ]
          },
          "metadata": {},
          "execution_count": 31
        }
      ],
      "source": [
        "comments"
      ]
    },
    {
      "cell_type": "code",
      "execution_count": 32,
      "id": "dca5c692",
      "metadata": {
        "colab": {
          "base_uri": "https://localhost:8080/"
        },
        "id": "dca5c692",
        "outputId": "a413f162-5577-4d26-a6e2-13c1cb4d2422"
      },
      "outputs": [
        {
          "output_type": "execute_result",
          "data": {
            "text/plain": [
              "1    9570\n",
              "0     430\n",
              "Name: Rating, dtype: int64"
            ]
          },
          "metadata": {},
          "execution_count": 32
        }
      ],
      "source": [
        "comments[\"Rating\"].value_counts()"
      ]
    },
    {
      "cell_type": "code",
      "execution_count": 33,
      "id": "f7e647d2",
      "metadata": {
        "colab": {
          "base_uri": "https://localhost:8080/",
          "height": 472
        },
        "id": "f7e647d2",
        "outputId": "3941b880-e362-4800-e209-0b1632f6e870"
      },
      "outputs": [
        {
          "output_type": "display_data",
          "data": {
            "text/plain": [
              "<Figure size 640x480 with 1 Axes>"
            ],
            "image/png": "[encoded data removed]"
          },
          "metadata": {}
        }
      ],
      "source": [
        "plt.title(\"Olumlu/Olumsuz Yorum Sayıları\")\n",
        "sns.countplot(data=comments, x=\"Rating\");"
      ]
    },
    {
      "cell_type": "markdown",
      "id": "6b40bc6a",
      "metadata": {
        "id": "6b40bc6a"
      },
      "source": [
        "## 3) Bert Modeli  ile Tahmin Yapılması <a class=\"anchor\" id=\"sadecebert\"></a>"
      ]
    },
    {
      "cell_type": "code",
      "source": [
        "!pip install transformers"
      ],
      "metadata": {
        "colab": {
          "base_uri": "https://localhost:8080/"
        },
        "id": "KR7H-26EAWjM",
        "outputId": "4150507a-b535-4103-ed5c-f29ecf9db4af"
      },
      "id": "KR7H-26EAWjM",
      "execution_count": 34,
      "outputs": [
        {
          "output_type": "stream",
          "name": "stdout",
          "text": [
            "Requirement already satisfied: transformers in /usr/local/lib/python3.10/dist-packages (4.31.0)\n",
            "Requirement already satisfied: filelock in /usr/local/lib/python3.10/dist-packages (from transformers) (3.12.2)\n",
            "Requirement already satisfied: huggingface-hub<1.0,>=0.14.1 in /usr/local/lib/python3.10/dist-packages (from transformers) (0.16.4)\n",
            "Requirement already satisfied: numpy>=1.17 in /usr/local/lib/python3.10/dist-packages (from transformers) (1.22.4)\n",
            "Requirement already satisfied: packaging>=20.0 in /usr/local/lib/python3.10/dist-packages (from transformers) (23.1)\n",
            "Requirement already satisfied: pyyaml>=5.1 in /usr/local/lib/python3.10/dist-packages (from transformers) (6.0)\n",
            "Requirement already satisfied: regex!=2019.12.17 in /usr/local/lib/python3.10/dist-packages (from transformers) (2022.10.31)\n",
            "Requirement already satisfied: requests in /usr/local/lib/python3.10/dist-packages (from transformers) (2.27.1)\n",
            "Requirement already satisfied: tokenizers!=0.11.3,<0.14,>=0.11.1 in /usr/local/lib/python3.10/dist-packages (from transformers) (0.13.3)\n",
            "Requirement already satisfied: safetensors>=0.3.1 in /usr/local/lib/python3.10/dist-packages (from transformers) (0.3.1)\n",
            "Requirement already satisfied: tqdm>=4.27 in /usr/local/lib/python3.10/dist-packages (from transformers) (4.65.0)\n",
            "Requirement already satisfied: fsspec in /usr/local/lib/python3.10/dist-packages (from huggingface-hub<1.0,>=0.14.1->transformers) (2023.6.0)\n",
            "Requirement already satisfied: typing-extensions>=3.7.4.3 in /usr/local/lib/python3.10/dist-packages (from huggingface-hub<1.0,>=0.14.1->transformers) (4.7.1)\n",
            "Requirement already satisfied: urllib3<1.27,>=1.21.1 in /usr/local/lib/python3.10/dist-packages (from requests->transformers) (1.26.16)\n",
            "Requirement already satisfied: certifi>=2017.4.17 in /usr/local/lib/python3.10/dist-packages (from requests->transformers) (2023.5.7)\n",
            "Requirement already satisfied: charset-normalizer~=2.0.0 in /usr/local/lib/python3.10/dist-packages (from requests->transformers) (2.0.12)\n",
            "Requirement already satisfied: idna<4,>=2.5 in /usr/local/lib/python3.10/dist-packages (from requests->transformers) (3.4)\n"
          ]
        }
      ]
    },
    {
      "cell_type": "code",
      "execution_count": 7,
      "id": "331113be",
      "metadata": {
        "id": "331113be",
        "colab": {
          "base_uri": "https://localhost:8080/"
        },
        "outputId": "79c95ce4-b2ff-489f-bc5f-7ea3a21045d8"
      },
      "outputs": [
        {
          "output_type": "stream",
          "name": "stderr",
          "text": [
            "Xformers is not installed correctly. If you want to use memory_efficient_attention to accelerate training use the following command to install Xformers\n",
            "pip install xformers.\n"
          ]
        }
      ],
      "source": [
        "from transformers import AutoModelForSequenceClassification, AutoTokenizer, pipeline, TextClassificationPipeline\n",
        "\n",
        "sentiment_analysis_pipeline = pipeline(\"sentiment-analysis\",model=\"emre/turkish-sentiment-analysis\",\n",
        "                device=0, tokenizer =\"emre/turkish-sentiment-analysis\")"
      ]
    },
    {
      "cell_type": "markdown",
      "id": "c65b2729",
      "metadata": {
        "id": "c65b2729"
      },
      "source": [
        "#### Bert Modeli ile Tahmin Yapılması"
      ]
    },
    {
      "cell_type": "code",
      "execution_count": 10,
      "id": "2842483b",
      "metadata": {
        "colab": {
          "base_uri": "https://localhost:8080/"
        },
        "id": "2842483b",
        "outputId": "dca2c56d-2c50-4d50-eddd-81a0cfdb5f3a"
      },
      "outputs": [
        {
          "output_type": "stream",
          "name": "stdout",
          "text": [
            "10000 yorumun etiketlenme süresi (saniye): 63.55619478225708\n"
          ]
        }
      ],
      "source": [
        "start=time.time()\n",
        "bert_outputs = sentiment_analysis_pipeline(list(comments.Review.values),\n",
        "                             batch_size = 32)\n",
        "\n",
        "print(\"10000 yorumun etiketlenme süresi (saniye): \" + str(time.time()-start))"
      ]
    },
    {
      "cell_type": "code",
      "execution_count": 11,
      "id": "54aa3493",
      "metadata": {
        "colab": {
          "base_uri": "https://localhost:8080/"
        },
        "id": "54aa3493",
        "outputId": "40085d1f-8014-4e81-8fe7-34c6033418b0"
      },
      "outputs": [
        {
          "output_type": "stream",
          "name": "stdout",
          "text": [
            "Predicted label counts: {'Positive': 9596, 'Negative': 403, 'Notr': 1}\n"
          ]
        }
      ],
      "source": [
        "predicted_labels = [label_score['label'] for label_score in bert_outputs]\n",
        "\n",
        "print('Predicted label counts:', dict(Counter(predicted_labels)) )\n",
        "\n",
        "predicted_labels = np.where(np.array(predicted_labels) == 'Positive', 1, 0)"
      ]
    },
    {
      "cell_type": "markdown",
      "id": "3c870e10",
      "metadata": {
        "id": "3c870e10"
      },
      "source": [
        "#### Tahmin Sonuçlarının Dataframe'e Eklenmesi"
      ]
    },
    {
      "cell_type": "code",
      "execution_count": 12,
      "id": "4058338f",
      "metadata": {
        "id": "4058338f"
      },
      "outputs": [],
      "source": [
        "comments[\"Bert_Predicted_Label\"] = pd.Series(predicted_labels).values"
      ]
    },
    {
      "cell_type": "code",
      "execution_count": 13,
      "id": "c718fe5c",
      "metadata": {
        "colab": {
          "base_uri": "https://localhost:8080/",
          "height": 423
        },
        "id": "c718fe5c",
        "outputId": "bf2242a2-7d64-4285-cf60-dfc31a6bd0bc"
      },
      "outputs": [
        {
          "output_type": "execute_result",
          "data": {
            "text/plain": [
              "      Rating                                             Review  \\\n",
              "0          1                            3 yıldır tık demedi. :)   \n",
              "1          1                      3 yıldır kullanıyorum müthiş    \n",
              "2          1  Ürün bugün elime geçti çok fazla inceleme fırs...   \n",
              "3          1  Almaya karar verdim. Hemencecik geldi. Keyifle...   \n",
              "4          1  Günlük kullanımınızı çok çok iyi karsılıyor kı...   \n",
              "...      ...                                                ...   \n",
              "9995       1  Hızlı teslimat, uygun fiyat. Özellekleri yeter...   \n",
              "9996       1  Herhangi bir sıkıntı çıkmadı, gece derin uyku ...   \n",
              "9997       1                         Sorunsuz ürün teşekkürler    \n",
              "9998       1  Sigarayi biraktim biraz kilo aldim.bu bileklik...   \n",
              "9999       1      Kullanışlı çok işime yarıyor. Tavsiye olunur.   \n",
              "\n",
              "      Bert_Predicted_Label  \n",
              "0                        1  \n",
              "1                        1  \n",
              "2                        1  \n",
              "3                        1  \n",
              "4                        1  \n",
              "...                    ...  \n",
              "9995                     1  \n",
              "9996                     1  \n",
              "9997                     1  \n",
              "9998                     1  \n",
              "9999                     1  \n",
              "\n",
              "[10000 rows x 3 columns]"
            ],
            "text/html": [
              "\n",
              "\n",
              "  <div id=\"df-4f9f376d-730c-48b5-8b44-6d99004a8dab\">\n",
              "    <div class=\"colab-df-container\">\n",
              "      <div>\n",
              "<style scoped>\n",
              "    .dataframe tbody tr th:only-of-type {\n",
              "        vertical-align: middle;\n",
              "    }\n",
              "\n",
              "    .dataframe tbody tr th {\n",
              "        vertical-align: top;\n",
              "    }\n",
              "\n",
              "    .dataframe thead th {\n",
              "        text-align: right;\n",
              "    }\n",
              "</style>\n",
              "<table border=\"1\" class=\"dataframe\">\n",
              "  <thead>\n",
              "    <tr style=\"text-align: right;\">\n",
              "      <th></th>\n",
              "      <th>Rating</th>\n",
              "      <th>Review</th>\n",
              "      <th>Bert_Predicted_Label</th>\n",
              "    </tr>\n",
              "  </thead>\n",
              "  <tbody>\n",
              "    <tr>\n",
              "      <th>0</th>\n",
              "      <td>1</td>\n",
              "      <td>3 yıldır tık demedi. :)</td>\n",
              "      <td>1</td>\n",
              "    </tr>\n",
              "    <tr>\n",
              "      <th>1</th>\n",
              "      <td>1</td>\n",
              "      <td>3 yıldır kullanıyorum müthiş</td>\n",
              "      <td>1</td>\n",
              "    </tr>\n",
              "    <tr>\n",
              "      <th>2</th>\n",
              "      <td>1</td>\n",
              "      <td>Ürün bugün elime geçti çok fazla inceleme fırs...</td>\n",
              "      <td>1</td>\n",
              "    </tr>\n",
              "    <tr>\n",
              "      <th>3</th>\n",
              "      <td>1</td>\n",
              "      <td>Almaya karar verdim. Hemencecik geldi. Keyifle...</td>\n",
              "      <td>1</td>\n",
              "    </tr>\n",
              "    <tr>\n",
              "      <th>4</th>\n",
              "      <td>1</td>\n",
              "      <td>Günlük kullanımınızı çok çok iyi karsılıyor kı...</td>\n",
              "      <td>1</td>\n",
              "    </tr>\n",
              "    <tr>\n",
              "      <th>...</th>\n",
              "      <td>...</td>\n",
              "      <td>...</td>\n",
              "      <td>...</td>\n",
              "    </tr>\n",
              "    <tr>\n",
              "      <th>9995</th>\n",
              "      <td>1</td>\n",
              "      <td>Hızlı teslimat, uygun fiyat. Özellekleri yeter...</td>\n",
              "      <td>1</td>\n",
              "    </tr>\n",
              "    <tr>\n",
              "      <th>9996</th>\n",
              "      <td>1</td>\n",
              "      <td>Herhangi bir sıkıntı çıkmadı, gece derin uyku ...</td>\n",
              "      <td>1</td>\n",
              "    </tr>\n",
              "    <tr>\n",
              "      <th>9997</th>\n",
              "      <td>1</td>\n",
              "      <td>Sorunsuz ürün teşekkürler</td>\n",
              "      <td>1</td>\n",
              "    </tr>\n",
              "    <tr>\n",
              "      <th>9998</th>\n",
              "      <td>1</td>\n",
              "      <td>Sigarayi biraktim biraz kilo aldim.bu bileklik...</td>\n",
              "      <td>1</td>\n",
              "    </tr>\n",
              "    <tr>\n",
              "      <th>9999</th>\n",
              "      <td>1</td>\n",
              "      <td>Kullanışlı çok işime yarıyor. Tavsiye olunur.</td>\n",
              "      <td>1</td>\n",
              "    </tr>\n",
              "  </tbody>\n",
              "</table>\n",
              "<p>10000 rows × 3 columns</p>\n",
              "</div>\n",
              "      <button class=\"colab-df-convert\" onclick=\"convertToInteractive('df-4f9f376d-730c-48b5-8b44-6d99004a8dab')\"\n",
              "              title=\"Convert this dataframe to an interactive table.\"\n",
              "              style=\"display:none;\">\n",
              "\n",
              "  <svg xmlns=\"http://www.w3.org/2000/svg\" height=\"24px\"viewBox=\"0 0 24 24\"\n",
              "       width=\"24px\">\n",
              "    <path d=\"M0 0h24v24H0V0z\" fill=\"none\"/>\n",
              "    <path d=\"M18.56 5.44l.94 2.06.94-2.06 2.06-.94-2.06-.94-.94-2.06-.94 2.06-2.06.94zm-11 1L8.5 8.5l.94-2.06 2.06-.94-2.06-.94L8.5 2.5l-.94 2.06-2.06.94zm10 10l.94 2.06.94-2.06 2.06-.94-2.06-.94-.94-2.06-.94 2.06-2.06.94z\"/><path d=\"M17.41 7.96l-1.37-1.37c-.4-.4-.92-.59-1.43-.59-.52 0-1.04.2-1.43.59L10.3 9.45l-7.72 7.72c-.78.78-.78 2.05 0 2.83L4 21.41c.39.39.9.59 1.41.59.51 0 1.02-.2 1.41-.59l7.78-7.78 2.81-2.81c.8-.78.8-2.07 0-2.86zM5.41 20L4 18.59l7.72-7.72 1.47 1.35L5.41 20z\"/>\n",
              "  </svg>\n",
              "      </button>\n",
              "\n",
              "\n",
              "\n",
              "    <div id=\"df-fc181a34-e60e-479c-891d-f72d8cd09ce5\">\n",
              "      <button class=\"colab-df-quickchart\" onclick=\"quickchart('df-fc181a34-e60e-479c-891d-f72d8cd09ce5')\"\n",
              "              title=\"Suggest charts.\"\n",
              "              style=\"display:none;\">\n",
              "\n",
              "<svg xmlns=\"http://www.w3.org/2000/svg\" height=\"24px\"viewBox=\"0 0 24 24\"\n",
              "     width=\"24px\">\n",
              "    <g>\n",
              "        <path d=\"M19 3H5c-1.1 0-2 .9-2 2v14c0 1.1.9 2 2 2h14c1.1 0 2-.9 2-2V5c0-1.1-.9-2-2-2zM9 17H7v-7h2v7zm4 0h-2V7h2v10zm4 0h-2v-4h2v4z\"/>\n",
              "    </g>\n",
              "</svg>\n",
              "      </button>\n",
              "    </div>\n",
              "\n",
              "<style>\n",
              "  .colab-df-quickchart {\n",
              "    background-color: #E8F0FE;\n",
              "    border: none;\n",
              "    border-radius: 50%;\n",
              "    cursor: pointer;\n",
              "    display: none;\n",
              "    fill: #1967D2;\n",
              "    height: 32px;\n",
              "    padding: 0 0 0 0;\n",
              "    width: 32px;\n",
              "  }\n",
              "\n",
              "  .colab-df-quickchart:hover {\n",
              "    background-color: #E2EBFA;\n",
              "    box-shadow: 0px 1px 2px rgba(60, 64, 67, 0.3), 0px 1px 3px 1px rgba(60, 64, 67, 0.15);\n",
              "    fill: #174EA6;\n",
              "  }\n",
              "\n",
              "  [theme=dark] .colab-df-quickchart {\n",
              "    background-color: #3B4455;\n",
              "    fill: #D2E3FC;\n",
              "  }\n",
              "\n",
              "  [theme=dark] .colab-df-quickchart:hover {\n",
              "    background-color: #434B5C;\n",
              "    box-shadow: 0px 1px 3px 1px rgba(0, 0, 0, 0.15);\n",
              "    filter: drop-shadow(0px 1px 2px rgba(0, 0, 0, 0.3));\n",
              "    fill: #FFFFFF;\n",
              "  }\n",
              "</style>\n",
              "\n",
              "    <script>\n",
              "      async function quickchart(key) {\n",
              "        const containerElement = document.querySelector('#' + key);\n",
              "        const charts = await google.colab.kernel.invokeFunction(\n",
              "            'suggestCharts', [key], {});\n",
              "      }\n",
              "    </script>\n",
              "\n",
              "      <script>\n",
              "\n",
              "function displayQuickchartButton(domScope) {\n",
              "  let quickchartButtonEl =\n",
              "    domScope.querySelector('#df-fc181a34-e60e-479c-891d-f72d8cd09ce5 button.colab-df-quickchart');\n",
              "  quickchartButtonEl.style.display =\n",
              "    google.colab.kernel.accessAllowed ? 'block' : 'none';\n",
              "}\n",
              "\n",
              "        displayQuickchartButton(document);\n",
              "      </script>\n",
              "      <style>\n",
              "    .colab-df-container {\n",
              "      display:flex;\n",
              "      flex-wrap:wrap;\n",
              "      gap: 12px;\n",
              "    }\n",
              "\n",
              "    .colab-df-convert {\n",
              "      background-color: #E8F0FE;\n",
              "      border: none;\n",
              "      border-radius: 50%;\n",
              "      cursor: pointer;\n",
              "      display: none;\n",
              "      fill: #1967D2;\n",
              "      height: 32px;\n",
              "      padding: 0 0 0 0;\n",
              "      width: 32px;\n",
              "    }\n",
              "\n",
              "    .colab-df-convert:hover {\n",
              "      background-color: #E2EBFA;\n",
              "      box-shadow: 0px 1px 2px rgba(60, 64, 67, 0.3), 0px 1px 3px 1px rgba(60, 64, 67, 0.15);\n",
              "      fill: #174EA6;\n",
              "    }\n",
              "\n",
              "    [theme=dark] .colab-df-convert {\n",
              "      background-color: #3B4455;\n",
              "      fill: #D2E3FC;\n",
              "    }\n",
              "\n",
              "    [theme=dark] .colab-df-convert:hover {\n",
              "      background-color: #434B5C;\n",
              "      box-shadow: 0px 1px 3px 1px rgba(0, 0, 0, 0.15);\n",
              "      filter: drop-shadow(0px 1px 2px rgba(0, 0, 0, 0.3));\n",
              "      fill: #FFFFFF;\n",
              "    }\n",
              "  </style>\n",
              "\n",
              "      <script>\n",
              "        const buttonEl =\n",
              "          document.querySelector('#df-4f9f376d-730c-48b5-8b44-6d99004a8dab button.colab-df-convert');\n",
              "        buttonEl.style.display =\n",
              "          google.colab.kernel.accessAllowed ? 'block' : 'none';\n",
              "\n",
              "        async function convertToInteractive(key) {\n",
              "          const element = document.querySelector('#df-4f9f376d-730c-48b5-8b44-6d99004a8dab');\n",
              "          const dataTable =\n",
              "            await google.colab.kernel.invokeFunction('convertToInteractive',\n",
              "                                                     [key], {});\n",
              "          if (!dataTable) return;\n",
              "\n",
              "          const docLinkHtml = 'Like what you see? Visit the ' +\n",
              "            '<a target=\"_blank\" href=https://colab.research.google.com/notebooks/data_table.ipynb>data table notebook</a>'\n",
              "            + ' to learn more about interactive tables.';\n",
              "          element.innerHTML = '';\n",
              "          dataTable['output_type'] = 'display_data';\n",
              "          await google.colab.output.renderOutput(dataTable, element);\n",
              "          const docLink = document.createElement('div');\n",
              "          docLink.innerHTML = docLinkHtml;\n",
              "          element.appendChild(docLink);\n",
              "        }\n",
              "      </script>\n",
              "    </div>\n",
              "  </div>\n"
            ]
          },
          "metadata": {},
          "execution_count": 13
        }
      ],
      "source": [
        "comments"
      ]
    },
    {
      "cell_type": "markdown",
      "id": "7ee4678b",
      "metadata": {
        "id": "7ee4678b"
      },
      "source": [
        "#### Doğruluk Değerinin Hesaplanması ve Karmaşıklık Matrisi Oluşturulması"
      ]
    },
    {
      "cell_type": "code",
      "execution_count": 25,
      "id": "5c392c17",
      "metadata": {
        "colab": {
          "base_uri": "https://localhost:8080/"
        },
        "id": "5c392c17",
        "outputId": "235a3db6-94da-47bf-d467-d3c140983437"
      },
      "outputs": [
        {
          "output_type": "stream",
          "name": "stdout",
          "text": [
            "Bert tahmini accuracy değeri: 0.9834\n"
          ]
        }
      ],
      "source": [
        "acc = accuracy_score(comments[\"Rating\"],comments[\"Bert_Predicted_Label\"])\n",
        "\n",
        "print(\"Bert tahmini accuracy değeri: \" + str(acc))"
      ]
    },
    {
      "cell_type": "code",
      "execution_count": 17,
      "id": "cc1c1cb9",
      "metadata": {
        "colab": {
          "base_uri": "https://localhost:8080/",
          "height": 530
        },
        "id": "cc1c1cb9",
        "outputId": "87ccb8b4-c8eb-4c73-bcb8-e45019389c2f"
      },
      "outputs": [
        {
          "output_type": "display_data",
          "data": {
            "text/plain": [
              "<Figure size 640x480 with 2 Axes>"
            ],
            "image/png": "[encoded data removed]"
          },
          "metadata": {}
        }
      ],
      "source": [
        "conf_matrix = confusion_matrix(comments[\"Rating\"], comments[\"Bert_Predicted_Label\"])\n",
        "\n",
        "ax = sns.heatmap(conf_matrix, annot=True, cmap='Blues',fmt=\"g\")\n",
        "\n",
        "ax.set_title('Seaborn Confusion Matrix with labels\\n\\n');\n",
        "ax.set_xlabel('\\nPredicted Values')\n",
        "ax.set_ylabel('Actual Values ');\n",
        "ax.xaxis.set_ticklabels(['False','True'])\n",
        "ax.yaxis.set_ticklabels(['False','True'])\n",
        "\n",
        "\n",
        "plt.show();"
      ]
    },
    {
      "cell_type": "code",
      "source": [
        "f1 = f1_score(comments[\"Rating\"], comments[\"Bert_Predicted_Label\"])\n",
        "print(\"F1 Score:\", f1)"
      ],
      "metadata": {
        "colab": {
          "base_uri": "https://localhost:8080/"
        },
        "id": "1yiCvYTRG-hW",
        "outputId": "9250e9e1-ccf7-4df9-c315-1e346c2c00cd"
      },
      "id": "1yiCvYTRG-hW",
      "execution_count": 23,
      "outputs": [
        {
          "output_type": "stream",
          "name": "stdout",
          "text": [
            "F1 Score: 0.991338829176667\n"
          ]
        }
      ]
    },
    {
      "cell_type": "code",
      "source": [
        "test_sentences = [\"Beklentilerimi karşılamadı, hayal kırıklığına uğradım.\",\n",
        "                  \"Faturasız gönderiyorlar şirket için alıyorsanız dikkat edin.\",\n",
        "                  \"Büyük, kulağı kaplayan, ağır olmayan, sesi gür (100 db), kablosu uzun, mikrofonlu kulaklık. Bende saatlerce müzik dinliyorum kulağım pişmiyor. 100 db civarında saatlerce müzik dinlerseniz tabi kulağınız pişer, dikkat etmek lazım.\",\n",
        "                  \"kalitesi belli bir ürün için tek kriter nereden ucuz alrım idi. Hepsiburada.com da indirimi görünce hemen aldım.Hızlı kargo ile ertesi gün adresimde id.\",\n",
        "                  \"daha önce bir çok marka kullandım bazıları kırıldı bazıları bozuldu ama kingstone baska\"]"
      ],
      "metadata": {
        "id": "Dv-Jj5H5CsOl"
      },
      "id": "Dv-Jj5H5CsOl",
      "execution_count": 26,
      "outputs": []
    },
    {
      "cell_type": "code",
      "execution_count": 27,
      "id": "a96226e1",
      "metadata": {
        "id": "a96226e1"
      },
      "outputs": [],
      "source": [
        "bert_outputs = sentiment_analysis_pipeline(test_sentences)"
      ]
    },
    {
      "cell_type": "code",
      "source": [
        "bert_outputs"
      ],
      "metadata": {
        "colab": {
          "base_uri": "https://localhost:8080/"
        },
        "id": "Xkjj_UMIDwop",
        "outputId": "bedf17f5-4fc2-4bc0-a8ae-0cf23c5104e1"
      },
      "id": "Xkjj_UMIDwop",
      "execution_count": 28,
      "outputs": [
        {
          "output_type": "execute_result",
          "data": {
            "text/plain": [
              "[{'label': 'Negative', 'score': 0.9981437921524048},\n",
              " {'label': 'Negative', 'score': 0.9781482219696045},\n",
              " {'label': 'Positive', 'score': 0.9630734920501709},\n",
              " {'label': 'Positive', 'score': 0.998455286026001},\n",
              " {'label': 'Positive', 'score': 0.9978964328765869}]"
            ]
          },
          "metadata": {},
          "execution_count": 28
        }
      ]
    },
    {
      "cell_type": "code",
      "source": [],
      "metadata": {
        "id": "vxt76WZTFpup"
      },
      "id": "vxt76WZTFpup",
      "execution_count": null,
      "outputs": []
    }
  ],
  "metadata": {
    "kernelspec": {
      "display_name": "Python 3",
      "name": "python3"
    },
    "language_info": {
      "codemirror_mode": {
        "name": "ipython",
        "version": 3
      },
      "file_extension": ".py",
      "mimetype": "text/x-python",
      "name": "python",
      "nbconvert_exporter": "python",
      "pygments_lexer": "ipython3",
      "version": "3.9.7"
    },
    "colab": {
      "provenance": [],
      "gpuType": "T4"
    },
    "accelerator": "GPU"
  },
  "nbformat": 4,
  "nbformat_minor": 5
}