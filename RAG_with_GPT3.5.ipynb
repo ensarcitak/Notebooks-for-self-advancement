{
 "cells": [
  {
   "cell_type": "markdown",
   "id": "11899330-7adc-41a2-af17-df690d2012ac",
   "metadata": {
    "scrolled": true
   },
   "source": [
    "# Retrieval Augmented Generation\n",
    "In this notebook, we'll learn how to do [Retrieval Augmented Generation](https://www.promptingguide.ai/techniques/rag) with ChromaDB and OpenAI to answer questions about Bunu Denedin Mi Service."
   ]
  },
  {
   "cell_type": "code",
   "execution_count": 1,
   "id": "7da02dbf-ccf1-4eb8-b621-ada3ebfbf5d8",
   "metadata": {},
   "outputs": [],
   "source": [
    "OPEN_AI_API_KEY = \"6975730fef866c5e84a0b3848df84e6ac70426651270edaf9bd1ca7c084c2e87\""
   ]
  },
  {
   "cell_type": "markdown",
   "id": "4e5b78fe-81cd-49d1-a7f8-b53cc468de35",
   "metadata": {},
   "source": [
    "## Loading Data"
   ]
  },
  {
   "cell_type": "code",
   "execution_count": 2,
   "id": "5d36492b-eaa3-49fc-a76e-5bcb543c04d0",
   "metadata": {},
   "outputs": [],
   "source": [
    "import os\n",
    "from langchain.document_loaders import Docx2txtLoader\n",
    "\n",
    "document_folder_name = \"docs\"\n",
    "documents = os.listdir(document_folder_name)"
   ]
  },
  {
   "cell_type": "code",
   "execution_count": 3,
   "id": "a6d75877-ca97-4bf1-b146-0129d04d1203",
   "metadata": {},
   "outputs": [],
   "source": [
    "data = []\n",
    "\n",
    "for doc_name in documents:\n",
    "    \n",
    "    if doc_name.endswith(\".docx\"):\n",
    "        \n",
    "        doc_path = os.path.join(document_folder_name, doc_name)\n",
    "        loader = Docx2txtLoader(doc_path)\n",
    "        doc_content = loader.load()\n",
    "        data.append(doc_content[0])\n",
    "\n",
    "for document in data:\n",
    "    document.page_content = document.page_content.replace('\\n', '')"
   ]
  },
  {
   "cell_type": "code",
   "execution_count": 4,
   "id": "c4378021-3db4-4b55-9b69-18a462b366a9",
   "metadata": {},
   "outputs": [
    {
     "data": {
      "text/plain": [
       "Document(page_content=\"Başlık: Hata 0x80070057 2013 veya sonraki sürümlerde Çevrimdışı Outlook Defteri indirilemedi Açıklama: Hata 0x80070057 2013 veya sonraki sürümlerde Çevrimdışı Outlook Defteri indirilemediÇözüm: Yapılandırılmış bir Ertelenmiş Teslim kuralı olup olmadığını ve yapılandırılmışsa kural için yapılandırılmış ölçütleri belirlemek için aşağıdaki adımları kullanın.Outlook 2010 veya sonraki sürümleriŞeritte\\xa0Kurallar'a ve sonra Uyarıları\\xa0Yönet'e & tıklayın.E-posta Kuralları sekmesinde listelenen\\xa0her kuralı\\xa0seçin ve kural açıklaması altındaki\\xa0bilgileri incelenin.Gönderme sırasında teslimi\\xa0geciktiren\\xa0kurallar,\\xa0kural açıklamasında teslimi # dakika erteler.Kural için belirtilen ölçütleri incelemek üzere herhangi bir kurala çift tıklayın.Gerekirse, teslimi birkaç dakika ertele eylemsini temizin.Bu ayar aşağıdaki şekilde etkin olarak gösterilmektedir. Keywords: E-posta iletileri, Ertelenmiş Teslim Kuralı Nedeniyle Giden Ktusunda KalmasıDoküman oluşturma tarihi: 19.03.2023 v1 – Aykut ArasTürkTelekom | Genel | Kişisel Veri İçermez\", metadata={'source': 'KB_docs\\\\CevrimdisiOutlookDefteri_indirileme1679246750254.docx'})"
      ]
     },
     "execution_count": 4,
     "metadata": {},
     "output_type": "execute_result"
    }
   ],
   "source": [
    "data[0]"
   ]
  },
  {
   "cell_type": "markdown",
   "id": "deab2285-9e95-49b2-90f9-d65c11f9aa2d",
   "metadata": {},
   "source": [
    "## Storing embeddings in ChromaDB\n",
    "Next, let's store those documents as embeddings in ChromaDB"
   ]
  },
  {
   "cell_type": "code",
   "execution_count": 5,
   "id": "987d8233-3971-4794-85cb-6fd3d7f23d0d",
   "metadata": {},
   "outputs": [],
   "source": [
    "from langchain.vectorstores import Chroma\n",
    "from langchain.embeddings import OpenAIEmbeddings"
   ]
  },
  {
   "cell_type": "code",
   "execution_count": 6,
   "id": "716c23e3-9fab-4f15-81ea-1feabc1fe7aa",
   "metadata": {},
   "outputs": [],
   "source": [
    "embeddings = OpenAIEmbeddings(openai_api_key=OPEN_AI_API_KEY)"
   ]
  },
  {
   "cell_type": "code",
   "execution_count": 7,
   "id": "d41a4d18-f0bb-4ae5-b79e-940d4affd693",
   "metadata": {},
   "outputs": [],
   "source": [
    "store = Chroma.from_documents(\n",
    "    data, \n",
    "    embeddings, \n",
    "    ids = [f\"{item.metadata['source']}-{index}\" for index, item in enumerate(data)],\n",
    "    collection_name=\"rag_embeddings\", \n",
    "    persist_directory='db',\n",
    ")\n",
    "store.persist()"
   ]
  },
  {
   "cell_type": "markdown",
   "id": "fbf122e8-458c-4548-afa0-6fc2eec183f3",
   "metadata": {},
   "source": [
    "## Asking questions\n",
    "Now let's use OpenAI, augmented by ChromaDB, to ask some questions."
   ]
  },
  {
   "cell_type": "code",
   "execution_count": 1,
   "id": "ed637f63-68ac-46df-b92a-292476572488",
   "metadata": {},
   "outputs": [],
   "source": [
    "from langchain.chains import RetrievalQA\n",
    "from langchain.prompts import PromptTemplate\n",
    "from langchain.chat_models import ChatOpenAI\n",
    "import pprint"
   ]
  },
  {
   "cell_type": "code",
   "execution_count": 9,
   "id": "da98e635-dd23-41c8-ab42-d31d173ed989",
   "metadata": {},
   "outputs": [],
   "source": [
    "template = \"\"\"You are a bot that answers questions about Wimbledon 2023, using only the context provided.\n",
    "If you don't know the answer, simply state that you don't know.\n",
    "\n",
    "{context}\n",
    "\n",
    "Question: {question}\"\"\"\n",
    "\n",
    "PROMPT = PromptTemplate(\n",
    "    template=template, input_variables=[\"context\", \"question\"]\n",
    ")"
   ]
  },
  {
   "cell_type": "code",
   "execution_count": 10,
   "id": "1ed5ba23-dc8c-43cd-bcee-57193c08139e",
   "metadata": {},
   "outputs": [],
   "source": [
    "llm = ChatOpenAI(temperature=0, model=\"gpt-3.5-turbo\", openai_api_key=OPEN_AI_API_KEY)"
   ]
  },
  {
   "cell_type": "code",
   "execution_count": null,
   "id": "351ef97a-cf00-43ee-860d-978c5383ea5c",
   "metadata": {},
   "outputs": [],
   "source": [
    "ChatOpenAI()"
   ]
  },
  {
   "cell_type": "code",
   "execution_count": 11,
   "id": "66cf008a-0d19-4797-bcf9-55e4176911e3",
   "metadata": {},
   "outputs": [],
   "source": [
    "qa_with_source = RetrievalQA.from_chain_type(\n",
    "    llm=llm,\n",
    "    chain_type=\"stuff\",\n",
    "    retriever=store.as_retriever(),\n",
    "    chain_type_kwargs={\"prompt\": PROMPT, },\n",
    "    return_source_documents=True,\n",
    ")"
   ]
  },
  {
   "cell_type": "code",
   "execution_count": 12,
   "id": "d37505aa-c58a-468b-bdd3-16cf7346d456",
   "metadata": {},
   "outputs": [
    {
     "name": "stdout",
     "output_type": "stream",
     "text": [
      "Sorun: Outlook’da imza nasıl oluşturulur?\n",
      "\n",
      "Çözüm: Outlook’da imza nasıl oluşturulur?\n",
      "\n",
      "Çözüm: 1. Adım: Windows 10 masaüstünüzde Outlook'u açın ve Dosya>Seçenekler'e gidin. Seçenekler penceresinde Posta sekmesine gidin ve 'İmzalar' düğmesini tıklayın. 2. Adım: Yeni bir pencere açılacaktır. 'Yeni' düğmesini tıklayın ve imzanıza bir ad verin. Kısa ve kesin tutun. Outlook ile yapılandırılmış birden fazla e-posta hesabınız varsa, imzasını oluşturduğunuz hesabı seçmek için 'E-posta hesabı' açılır menüsünü kullanın. Bu imzalar hesap bazında oluşturulur. Ad oluşturulduktan sonra, altındaki 'İmzaları Düzenle' alanına imzayı girin. 3. Adım: Outlook'ta imza nasıl eklenir? Outlook, varsayılan olarak bir iletiye ayarladığınız imzalardan otomatik olarak bir imza ekler. Ancak, istediğiniz zaman farklı bir tane ile değiştirebilirsiniz. Bir mesajda kullanılan imzayı değiştirmek için, mesaj oluştur penceresindeki Mesaj sekmesindeki 'İmza' açılır menüsünü tıklayın ve kullanmak istediğiniz imzalardan birini seçin. 'İmzalar' seçeneğini tıklarsanız, farklı durumlar için birden çok imzayı düzenleyebileceğiniz veya oluşturmaya devam edebileceğiniz Outlook'un imza oluşturucusuna yönlendirilirsiniz.\n",
      "\n",
      "\n",
      "Sorununuzun çözümü aşağıdaki belgede yer almaktadır.\n",
      "\n",
      "Source: KB_docs\\outlookimzanasilolusturulur.docx\n"
     ]
    }
   ],
   "source": [
    "response = qa_with_source(\"Outlook’da imza nasıl oluşturulur?\")\n",
    "print(\"Sorun:\", response['query'] + \"\\n\")\n",
    "print(\"Çözüm:\", response['result'] + \"\\n\\n\\nSorununuzun çözümü aşağıdaki belgede yer almaktadır.\\n\") \n",
    "print(\"Source:\", response['source_documents'][0].metadata['source'])"
   ]
  },
  {
   "cell_type": "code",
   "execution_count": 13,
   "id": "b6d10178-840a-412d-93e8-6a3a83d9478f",
   "metadata": {},
   "outputs": [
    {
     "name": "stdout",
     "output_type": "stream",
     "text": [
      "Sorun: outlook eklentilerimi nasıl yönetebilirim?\n",
      "\n",
      "Çözüm: Outlook eklentilerinizi yönetmek için aşağıdaki adımları izleyebilirsiniz:\n",
      "\n",
      "1. Outlook'u açın.\n",
      "2. Dosya menüsüne gidin.\n",
      "3. Outlook Seçenekleri'ni seçin.\n",
      "4. Eklentiler sekmesine gidin.\n",
      "5. Eklentilerinizi yönetmek için Git düğmesine tıklayın.\n",
      "6. Açılan pencerede eklentilerinizi etkinleştirebilir veya devre dışı bırakabilirsiniz.\n",
      "\n",
      "Bu adımları takip ederek Outlook eklentilerinizi yönetebilirsiniz.\n",
      "\n",
      "\n",
      "Sorununuzun çözümü aşağıdaki belgede yer almaktadır.\n",
      "\n",
      "Source: KB_docs\\OUTLOOKEKLENTILERININENABLE-DISABLEEDILMESIHAKKINDA1681200993136.docx\n"
     ]
    }
   ],
   "source": [
    "response = qa_with_source(\"outlook eklentilerimi nasıl yönetebilirim?\")\n",
    "print(\"Sorun:\", response['query'] + \"\\n\")\n",
    "print(\"Çözüm:\", response['result'] + \"\\n\\n\\nSorununuzun çözümü aşağıdaki belgede yer almaktadır.\\n\") \n",
    "print(\"Source:\", response['source_documents'][0].metadata['source'])"
   ]
  },
  {
   "cell_type": "code",
   "execution_count": 14,
   "id": "f8ecad9c-8afd-4e02-801a-18586b206e9e",
   "metadata": {},
   "outputs": [
    {
     "name": "stdout",
     "output_type": "stream",
     "text": [
      "Sorun: Outlook hesabım sürekli office 365 e yönleniyor bunu nasıl durdururum?\n",
      "\n",
      "Çözüm: Outlook hesabınızın sürekli olarak Office 365'e yönlendirilmesini durdurmak için aşağıdaki adımları izleyebilirsiniz:\n",
      "\n",
      "1. Bilgisayarınızda \"Regedit\" (Kayıt Defteri Düzenleyicisi) programını açın.\n",
      "2. Sol taraftaki menüden \"HKEY_CURRENT_USER\" seçeneğini genişletin.\n",
      "3. \"Software\" klasörünü genişletin.\n",
      "4. \"Microsoft\" klasörünü genişletin.\n",
      "5. \"Office\" klasörünü genişletin.\n",
      "6. \"16.0\" klasörünü genişletin.\n",
      "7. \"Common\" klasörünü genişletin.\n",
      "8. \"Identity\" klasörünü seçin.\n",
      "9. Sağ tarafta \"SignedOutADUser\" adında bir kayıt bulunmalıdır. Bu kaydı silin.\n",
      "10. Windows profil ayarlarına girin.\n",
      "11. \"İş ya da okul erişimi\" menüsünden Office 365 bireysel hesabınızı kaldırın.\n",
      "\n",
      "Bu adımları takip ederek Outlook hesabınızın Office 365'e yönlendirilmesini durdurabilirsiniz.\n",
      "\n",
      "\n",
      "Sorununuzun çözümü aşağıdaki belgede yer almaktadır.\n",
      "\n",
      "Source: KB_docs\\outlookbaglantİhatasioffice365.docx\n"
     ]
    }
   ],
   "source": [
    "response = qa_with_source(\"Outlook hesabım sürekli office 365 e yönleniyor bunu nasıl durdururum?\")\n",
    "print(\"Sorun:\", response['query'] + \"\\n\")\n",
    "print(\"Çözüm:\", response['result'] + \"\\n\\n\\nSorununuzun çözümü aşağıdaki belgede yer almaktadır.\\n\") \n",
    "print(\"Source:\", response['source_documents'][0].metadata['source'])"
   ]
  },
  {
   "cell_type": "code",
   "execution_count": null,
   "id": "7e73822b-8b55-4155-9d92-185460425038",
   "metadata": {},
   "outputs": [],
   "source": []
  }
 ],
 "metadata": {
  "kernelspec": {
   "display_name": "Python 3 (ipykernel)",
   "language": "python",
   "name": "python3"
  },
  "language_info": {
   "codemirror_mode": {
    "name": "ipython",
    "version": 3
   },
   "file_extension": ".py",
   "mimetype": "text/x-python",
   "name": "python",
   "nbconvert_exporter": "python",
   "pygments_lexer": "ipython3",
   "version": "3.9.7"
  },
  "widgets": {
   "application/vnd.jupyter.widget-state+json": {
    "state": {},
    "version_major": 2,
    "version_minor": 0
   }
  }
 },
 "nbformat": 4,
 "nbformat_minor": 5
}
